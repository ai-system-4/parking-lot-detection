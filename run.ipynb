{
 "cells": [
  {
   "cell_type": "markdown",
   "metadata": {},
   "source": [
    "## **SETTINGS**"
   ]
  },
  {
   "cell_type": "code",
   "execution_count": null,
   "metadata": {},
   "outputs": [],
   "source": [
    "import os\n",
    "import glob\n",
    "\n",
    "%cd ./parking-lot-detection\n",
    "\n",
    "# 경로 설정\n",
    "HOME = os.getcwd()\n",
    "DATA = os.path.join(HOME, 'data')\n",
    "YOLOV9 = os.path.join(HOME, 'yolov9')\n",
    "YOLOV8 = os.path.join(HOME, 'yolov8')\n",
    "YOLONAS = os.path.join(HOME, 'yolonas')"
   ]
  },
  {
   "cell_type": "code",
   "execution_count": null,
   "metadata": {},
   "outputs": [],
   "source": [
    "%cd $HOME"
   ]
  },
  {
   "cell_type": "markdown",
   "metadata": {},
   "source": [
    "## **DATA**"
   ]
  },
  {
   "cell_type": "markdown",
   "metadata": {},
   "source": [
    "### 1. Download from Roboflow"
   ]
  },
  {
   "cell_type": "code",
   "execution_count": null,
   "metadata": {},
   "outputs": [],
   "source": [
    "if not os.path.exists(DATA):\n",
    "    os.makedirs(DATA)"
   ]
  },
  {
   "cell_type": "code",
   "execution_count": null,
   "metadata": {},
   "outputs": [],
   "source": [
    "%cd $DATA\n",
    "\n",
    "!curl -L \"https://public.roboflow.com/ds/dYKPAQ9Uc4?key=1Knp1nWbcm\" > data.zip; unzip data.zip; rm data.zip"
   ]
  },
  {
   "cell_type": "markdown",
   "metadata": {},
   "source": [
    "### 2. Check data"
   ]
  },
  {
   "cell_type": "code",
   "execution_count": null,
   "metadata": {},
   "outputs": [],
   "source": [
    "# 데이터 수 확인\n",
    "train_path = os.path.join(DATA, 'train')\n",
    "test_path = os.path.join(DATA, 'test')\n",
    "valid_path = os.path.join(DATA, 'valid')\n",
    "\n",
    "train_images = glob.glob(train_path + '/images/*.jpg')\n",
    "test_images = glob.glob(test_path + '/images/*.jpg')\n",
    "valid_images = glob.glob(valid_path + '/images/*.jpg')\n",
    "\n",
    "print(f'train: {len(train_images)}, valid: {len(valid_images)}, test: {len(test_images)}')\n",
    "print(f'total data: {len(train_images) + len(valid_images) + len(test_images)}')"
   ]
  },
  {
   "cell_type": "code",
   "execution_count": null,
   "metadata": {},
   "outputs": [],
   "source": [
    "# label 파일 확인\n",
    "train_label = glob.glob(train_path + '/labels/*.txt')\n",
    "test_label = glob.glob(test_path + '/labels/*.txt')\n",
    "valid_label = glob.glob(valid_path + '/labels/*.txt')\n",
    "\n",
    "print(f'text files: {len(train_label)}, {len(valid_label)}, {len(test_label)}')"
   ]
  },
  {
   "cell_type": "markdown",
   "metadata": {},
   "source": [
    "### 3. Update YAML"
   ]
  },
  {
   "cell_type": "code",
   "execution_count": null,
   "metadata": {},
   "outputs": [],
   "source": [
    "%cd $DATA\n",
    "\n",
    "import yaml\n",
    "\n",
    "with open('data.yaml', 'r') as f:\n",
    "    data_yaml = yaml.full_load(f)\n",
    "    data_yaml['path'] = DATA\n",
    "    data_yaml['train'] = './train/images'\n",
    "    data_yaml['val'] = './valid/images'\n",
    "    data_yaml['test'] = './test/images'\n",
    "\n",
    "with open('my_data.yaml', 'w') as f:\n",
    "    yaml.dump(data_yaml, f)"
   ]
  },
  {
   "cell_type": "markdown",
   "metadata": {},
   "source": [
    "## **TRAIN FOR MODEL SELECTION**"
   ]
  },
  {
   "cell_type": "markdown",
   "metadata": {},
   "source": [
    "### 1. YOLO v8"
   ]
  },
  {
   "cell_type": "code",
   "execution_count": null,
   "metadata": {},
   "outputs": [],
   "source": [
    "%cd $YOLOV8\n",
    "!pip install -U ultralytics\n",
    "!pip install e ."
   ]
  },
  {
   "cell_type": "code",
   "execution_count": null,
   "metadata": {},
   "outputs": [],
   "source": [
    "# Train\n",
    "!yolo task=detect mode=train model=yolov8s.pt \\\n",
    "    data=\"../../data/my_data.yaml\" \\\n",
    "    epochs=10 batch=16 imgsz=640 workers=2"
   ]
  },
  {
   "cell_type": "code",
   "execution_count": null,
   "metadata": {},
   "outputs": [],
   "source": [
    "# Inference with Test set\n",
    "!yolo predict \\\n",
    "    model='runs/detect/train/weights/best.pt' \\\n",
    "    source='../../data/test/images' show_labels=False"
   ]
  },
  {
   "cell_type": "markdown",
   "metadata": {},
   "source": [
    "### 2. YOLO v9"
   ]
  },
  {
   "cell_type": "code",
   "execution_count": null,
   "metadata": {},
   "outputs": [],
   "source": [
    "%cd $YOLOV9\n",
    "! pip install -r requirements.txt -q"
   ]
  },
  {
   "cell_type": "code",
   "execution_count": null,
   "metadata": {},
   "outputs": [],
   "source": [
    "# Train\n",
    "! python train_dual.py \\\n",
    "    --batch-size 4 --epochs 10 --img 640 --device 0 --workers 2 \\\n",
    "    --data \"../../data/my_data.yaml\" \\\n",
    "    --weights 'https://github.com/WongKinYiu/yolov9/releases/download/v0.1/yolov9-c.pt' \\\n",
    "    --cfg \"models/detect/yolov9-c.yaml\" \\\n",
    "    --hyp \"data/hyps/hyp.scratch-high.yaml\""
   ]
  },
  {
   "cell_type": "code",
   "execution_count": null,
   "metadata": {},
   "outputs": [],
   "source": [
    "# Inference with Test set\n",
    "! python detect.py \\\n",
    "    --weights \"runs/train/exp/weights/best.pt\" \\\n",
    "    --source \"../../data/test/images\" \\\n",
    "    --hide-labels"
   ]
  },
  {
   "cell_type": "markdown",
   "metadata": {},
   "source": [
    "### 3. YOLO v9 GELAN"
   ]
  },
  {
   "cell_type": "code",
   "execution_count": null,
   "metadata": {},
   "outputs": [],
   "source": [
    "%cd $YOLOV9\n",
    "# ! pip install -r requirements.txt -q "
   ]
  },
  {
   "cell_type": "code",
   "execution_count": null,
   "metadata": {},
   "outputs": [],
   "source": [
    "# Train\n",
    "! python train.py \\\n",
    "    --batch-size 8 --epochs 10 --img 640 --device 0 --workers 2 \\\n",
    "    --data \"../../data/my_data.yaml\" \\\n",
    "    --weights \"https://github.com/WongKinYiu/yolov9/releases/download/v0.1/gelan-c.pt\" \\\n",
    "    --cfg \"models/detect/gelan-c.yaml\" \\\n",
    "    --hyp \"data/hyps/hyp.scratch-high.yaml\""
   ]
  },
  {
   "cell_type": "code",
   "execution_count": null,
   "metadata": {},
   "outputs": [],
   "source": [
    "# Inference with Test set\n",
    "!python detect.py \\\n",
    "    --weights \"runs/train/exp/weights/best.pt\" \\\n",
    "    --source \"../../data/test/images\" \\\n",
    "    --hide-labels"
   ]
  },
  {
   "cell_type": "markdown",
   "metadata": {},
   "source": [
    "### 4. YOLO NAS"
   ]
  },
  {
   "cell_type": "code",
   "execution_count": null,
   "metadata": {},
   "outputs": [],
   "source": [
    "%cd $YOLONAS\n",
    "! pip install -qq super_gradients==3.7.1"
   ]
  },
  {
   "cell_type": "code",
   "execution_count": null,
   "metadata": {},
   "outputs": [],
   "source": [
    "from super_gradients.training import Trainer\n",
    "from super_gradients.training import models\n",
    "from super_gradients.training import dataloaders\n",
    "from super_gradients.training.dataloaders.dataloaders import coco_detection_yolo_format_train, coco_detection_yolo_format_val\n",
    "\n",
    "from super_gradients.training.losses import PPYoloELoss\n",
    "from super_gradients.training.metrics import DetectionMetrics_050\n",
    "from super_gradients.training.models.detection_models.pp_yolo_e import PPYoloEPostPredictionCallback"
   ]
  },
  {
   "cell_type": "code",
   "execution_count": null,
   "metadata": {},
   "outputs": [],
   "source": [
    "# Parameters\n",
    "\n",
    "dataset_params = {\n",
    "   'data_dir': DATA,\n",
    "   'train_images_dir':'train/images',\n",
    "   'train_labels_dir':'train/labels',\n",
    "   'val_images_dir':'valid/images',\n",
    "   'val_labels_dir':'valid/labels',\n",
    "   'test_images_dir':'test/images',\n",
    "   'test_labels_dir':'test/labels',\n",
    "   'classes': ['space-empty', 'space-occupied']}\n",
    "\n",
    "dataloader_params={\n",
    "   'batch_size':2,  # 배치 사이즈 증가\n",
    "   'num_workers':4  # num_workers 증가\n",
    "}\n",
    "\n",
    "train_params = {\n",
    "    \"max_epochs\": 5,\n",
    "    \"initial_lr\": 5e-4,\n",
    "    \"optimizer\": \"Adam\",\n",
    "    \"loss\": PPYoloELoss(\n",
    "        num_classes=len(dataset_params['classes']),\n",
    "        reg_max=16\n",
    "    ),\n",
    "    \"valid_metrics_list\": [\n",
    "        DetectionMetrics_050(\n",
    "            score_thres=0.1,\n",
    "            top_k_predictions=300,\n",
    "            num_cls=len(dataset_params['classes']),\n",
    "            normalize_targets=True,\n",
    "            post_prediction_callback=PPYoloEPostPredictionCallback(\n",
    "                score_threshold=0.01,\n",
    "                nms_top_k=1000,\n",
    "                max_predictions=300,\n",
    "                nms_threshold=0.7\n",
    "            )\n",
    "        )\n",
    "    ],\n",
    "    \"metric_to_watch\": 'mAP@0.50'\n",
    "}"
   ]
  },
  {
   "cell_type": "code",
   "execution_count": null,
   "metadata": {},
   "outputs": [],
   "source": [
    "train_data = coco_detection_yolo_format_train(\n",
    "   dataset_params={\n",
    "       'data_dir': dataset_params['data_dir'],\n",
    "       'images_dir': dataset_params['train_images_dir'],\n",
    "       'labels_dir': dataset_params['train_labels_dir'],\n",
    "       'classes': dataset_params['classes'],\n",
    "       'cache_annotations': False  \n",
    "   },\n",
    "   dataloader_params=dataloader_params\n",
    ")\n",
    "\n",
    "val_data = coco_detection_yolo_format_val(\n",
    "   dataset_params={\n",
    "       'data_dir': dataset_params['data_dir'],\n",
    "       'images_dir': dataset_params['val_images_dir'],\n",
    "       'labels_dir': dataset_params['val_labels_dir'],\n",
    "       'classes': dataset_params['classes'],\n",
    "       'cache_annotations': False \n",
    "   },\n",
    "   dataloader_params=dataloader_params\n",
    ")\n",
    "\n",
    "test_data = coco_detection_yolo_format_val(\n",
    "   dataset_params={\n",
    "       'data_dir': dataset_params['data_dir'],\n",
    "       'images_dir': dataset_params['test_images_dir'],\n",
    "       'labels_dir': dataset_params['test_labels_dir'],\n",
    "       'classes': dataset_params['classes'],\n",
    "       'cache_annotations': False \n",
    "   },\n",
    "   dataloader_params=dataloader_params\n",
    ")\n",
    "\n",
    "clear_output()"
   ]
  },
  {
   "cell_type": "code",
   "execution_count": null,
   "metadata": {},
   "outputs": [],
   "source": [
    "trainer = Trainer(experiment_name='exp', ckpt_root_dir='weight')\n",
    "model = models.get('yolo_nas_s', num_classes=len(dataset_params['classes']), pretrained_weights=\"coco\")"
   ]
  },
  {
   "cell_type": "code",
   "execution_count": null,
   "metadata": {},
   "outputs": [],
   "source": [
    "trainer.train(model=model, training_params=train_params, train_loader=train_data, valid_loader=val_data)"
   ]
  },
  {
   "cell_type": "markdown",
   "metadata": {},
   "source": [
    "## **TRAIN FOR VIDEO DETECTION**"
   ]
  },
  {
   "cell_type": "code",
   "execution_count": null,
   "metadata": {},
   "outputs": [],
   "source": [
    "%cd $YOLOV9\n",
    "# ! pip install -r requirements.txt -q "
   ]
  },
  {
   "cell_type": "code",
   "execution_count": null,
   "metadata": {},
   "outputs": [],
   "source": [
    "# Train\n",
    "# 실행 전에 code/yolov9/utils/augmentations.py의 ln 26, T를 변경하고 실행 \n",
    "\n",
    "! python train.py \\\n",
    "    --batch-size 8 --epochs 30 --img 640 --device 0 --workers 2 \\\n",
    "    --data \"../../data/my_data.yaml\" \\\n",
    "    --weights \"https://github.com/WongKinYiu/yolov9/releases/download/v0.1/gelan-c.pt\" \\\n",
    "    --cfg \"models/detect/gelan-c.yaml\" \\\n",
    "    --hyp \"data/hyps/hyp.scratch-high-mod.yaml\""
   ]
  },
  {
   "cell_type": "code",
   "execution_count": null,
   "metadata": {},
   "outputs": [],
   "source": [
    "# Detection\n",
    "\n",
    "!python detect.py \\\n",
    "    --weights \"runs/train/exp/weights/best.pt\" \\\n",
    "    --source \"https://youtu.be/nJFxMsYyGrU?si=vPo5vXcH0yotw3Sc\" \\\n",
    "    --device 0 \\\n",
    "    --hide-labels"
   ]
  }
 ],
 "metadata": {
  "language_info": {
   "name": "python"
  }
 },
 "nbformat": 4,
 "nbformat_minor": 2
}
